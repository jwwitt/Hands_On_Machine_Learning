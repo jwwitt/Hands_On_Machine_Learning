{
 "cells": [
  {
   "cell_type": "markdown",
   "metadata": {},
   "source": [
    "# Hands on Machine Learning with SciKit Learn, Keras, and Tensorflow\n",
    "### Chapter 1: The Machine Learning Landscape"
   ]
  },
  {
   "cell_type": "markdown",
   "metadata": {},
   "source": [
    "#### What is Machine Learning?"
   ]
  },
  {
   "cell_type": "markdown",
   "metadata": {},
   "source": [
    "Machine Learning is the science (and art) of programming computers so they can\n",
    "learn from data.\n",
    "* The examples the system uses to learn are called the *Training Set*\n",
    "* Each example is called a *Training Instance*"
   ]
  },
  {
   "cell_type": "markdown",
   "metadata": {},
   "source": [
    "#### Why Use Machine Learning?"
   ]
  },
  {
   "cell_type": "markdown",
   "metadata": {},
   "source": [
    "Machine learning can automate tasks to make a program which is much shorter, easier to maintain, and most likely more accurate. In addition, programs built on machine learning can automatically detect changes and make changes to the algorithm. Machine Learning is much easier to scale. In addition, applying ML techniques to dig into large amounts of data can help discover patterns that were not immediately apparent. This is called *data mining*."
   ]
  },
  {
   "cell_type": "markdown",
   "metadata": {},
   "source": [
    "In summary, Machine Learning is great for:\n",
    "* Problems for which existing solutions require a lot of hand-tuning or long lists of rules: one Machine Learning algorithm can often simplify code and perform better.\n",
    "* Complex problems for which there is no good solution at all using a traditional approach: the best Machine Learning techniques can find a solution.\n",
    "* Fluctuating environments: a Machine Learning system can adapt to new data.\n",
    "* Getting insights about complex problems and large amounts of data."
   ]
  },
  {
   "cell_type": "markdown",
   "metadata": {},
   "source": [
    "#### Types of Machine Learning Systems"
   ]
  },
  {
   "cell_type": "markdown",
   "metadata": {},
   "source": [
    "**Supervised Learning**: The training data you feed to the algorithm includes the desired\n",
    "solutions, called labels.\n",
    "* k-Nearest Neighbors\n",
    "* Linear Regression\n",
    "* Logistic Regression\n",
    "* Support Vector Machines (SVMs)\n",
    "* Decision Trees and Random Forests\n",
    "* Neural networks"
   ]
  },
  {
   "cell_type": "markdown",
   "metadata": {},
   "source": [
    "**Unsupervised Learning**: The training data is unlabeled.\n",
    "* Clustering\n",
    "* Anomoly and Novelty Detection\n",
    "* Visualization and Dimensionality Reduction\n",
    "* Association Rule Learning"
   ]
  },
  {
   "cell_type": "markdown",
   "metadata": {},
   "source": [
    "**Reinforcement Learning**: The learning system, called an agentin this context, can observe the environment, select and perform actions, and get rewards in return"
   ]
  },
  {
   "cell_type": "markdown",
   "metadata": {},
   "source": [
    "**Batch Learning**: the system is incapable of learning incrementally: it must be trained\n",
    "using all the available data."
   ]
  },
  {
   "cell_type": "markdown",
   "metadata": {},
   "source": [
    "**Online Learning**: you train the system incrementally by feeding it data instances\n",
    "sequentially, either individually or by small groups called mini-batches."
   ]
  }
 ],
 "metadata": {
  "kernelspec": {
   "display_name": "Python 3",
   "language": "python",
   "name": "python3"
  },
  "language_info": {
   "codemirror_mode": {
    "name": "ipython",
    "version": 3
   },
   "file_extension": ".py",
   "mimetype": "text/x-python",
   "name": "python",
   "nbconvert_exporter": "python",
   "pygments_lexer": "ipython3",
   "version": "3.7.6"
  }
 },
 "nbformat": 4,
 "nbformat_minor": 4
}
